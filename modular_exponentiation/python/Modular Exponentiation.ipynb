{
 "cells": [
  {
   "cell_type": "code",
   "execution_count": 7,
   "metadata": {},
   "outputs": [
    {
     "name": "stdout",
     "output_type": "stream",
     "text": [
      "Enter an x-value:79\n",
      "Enter a y-value:859\n",
      "Enter a mod-value:1829\n",
      "737\n"
     ]
    }
   ],
   "source": [
    "import sys\n",
    "\n",
    "s = int(input(\"Enter an x-value: \"))\n",
    "r = int(input(\"Enter a y-value: \"))\n",
    "n = int(input(\"Enter a mod-value: \"))\n",
    "p = 1\n",
    "\n",
    "while (r > 0):\n",
    "    #print(r)\n",
    "    if(r % 2 == 1):\n",
    "        p = p*s % n\n",
    "    s = s*s % n\n",
    "    r = int(r / 2)\n",
    "\n",
    "print(\"Result:\",p)"
   ]
  },
  {
   "cell_type": "code",
   "execution_count": null,
   "metadata": {
    "collapsed": true
   },
   "outputs": [],
   "source": [
    "7879**459173"
   ]
  }
 ],
 "metadata": {
  "kernelspec": {
   "display_name": "Python 3",
   "language": "python",
   "name": "python3"
  },
  "language_info": {
   "codemirror_mode": {
    "name": "ipython",
    "version": 3
   },
   "file_extension": ".py",
   "mimetype": "text/x-python",
   "name": "python",
   "nbconvert_exporter": "python",
   "pygments_lexer": "ipython3",
   "version": "3.6.3"
  }
 },
 "nbformat": 4,
 "nbformat_minor": 2
}
